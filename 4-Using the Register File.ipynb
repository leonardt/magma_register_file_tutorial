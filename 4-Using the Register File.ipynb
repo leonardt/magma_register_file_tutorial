{
 "cells": [
  {
   "cell_type": "code",
   "execution_count": 1,
   "metadata": {},
   "outputs": [],
   "source": [
    "%%capture\n",
    "%run 1-Register\\ File\\ Example.ipynb\n",
    "%run 2-Defining\\ an\\ APB\\ Model\\ in\\ Python.ipynb\n",
    "%run 3-Verifying\\ The\\ Register\\ File.ipynb"
   ]
  },
  {
   "cell_type": "code",
   "execution_count": 2,
   "metadata": {},
   "outputs": [],
   "source": [
    "# For some reason logging in this notebook doesn't work unless I explicitly set\n",
    "# the handler, I suspect this is due to some interaction with the above\n",
    "# notebooks being run (which configure their own loggers)\n",
    "# Adapted from https://github.com/ipython/ipykernel/issues/111#issuecomment-237089618\n",
    "\n",
    "import sys\n",
    "import logging\n",
    "\n",
    "# Create logger\n",
    "logger = logging.getLogger()\n",
    "logger.setLevel(logging.INFO)\n",
    "\n",
    "# Create STDERR handler\n",
    "handler = logging.StreamHandler(sys.stderr)\n",
    "\n",
    "# Create formatter and add it to the handler\n",
    "formatter = logging.Formatter('%(name)s - %(levelname)s - %(message)s')\n",
    "handler.setFormatter(formatter)\n",
    "\n",
    "# Set STDERR handler as the only handler \n",
    "logger.handlers = [handler]"
   ]
  },
  {
   "cell_type": "markdown",
   "metadata": {
    "lines_to_next_cell": 0
   },
   "source": [
    "First, we'll define a stub DMA module with a basic interface. We'll wire all\n",
    "the inputs to the CoreIR term module so that the downstream compiler does not\n",
    "complain about dangling wires."
   ]
  },
  {
   "cell_type": "code",
   "execution_count": 3,
   "metadata": {},
   "outputs": [],
   "source": [
    "import mantle\n",
    "\n",
    "\n",
    "class DMA(m.Circuit):\n",
    "    \"\"\"\n",
    "    Stub DMA module\n",
    "    \"\"\"\n",
    "    io = m.IO(csr=m.In(m.Bits[32]), src_addr=m.In(m.Bits[32]),\n",
    "              dst_addr=m.In(m.Bits[32]), txfr_len=m.In(m.Bits[32]))\n",
    "\n",
    "    io.csr.unused()\n",
    "    io.src_addr.unused()\n",
    "    io.dst_addr.unused()\n",
    "    io.txfr_len.unused()"
   ]
  },
  {
   "cell_type": "markdown",
   "metadata": {},
   "source": [
    "Now we'll define a top module containing two DMA instances that is\n",
    "parameterized by a mode `pack` or `distributed` which refers to the strategy\n",
    "for managing the configuration registers for the DMA. In the `pack` mode, the\n",
    "configuration registers are placed in a single register file that is shared by\n",
    "the two DMAs. In the `distributed` mode, each DMA has their own register file."
   ]
  },
  {
   "cell_type": "code",
   "execution_count": 4,
   "metadata": {},
   "outputs": [],
   "source": [
    "class TopGenerator(m.Generator2):\n",
    "    def __init__(self, mode=\"pack\"):\n",
    "        \"\"\"\n",
    "        Simple example that instances two stub DMA modules and is paramtrizable\n",
    "        over distributed versus packed register file\n",
    "        \"\"\"\n",
    "\n",
    "        if mode not in [\"pack\", \"distribute\"]:\n",
    "            raise ValueError(f\"Unexpected mode {mode}\")\n",
    "\n",
    "        fields = [\"csr\", \"src_addr\", \"dst_addr\", \"txfr_len\"]\n",
    "        data_width = 32\n",
    "        if mode == \"pack\":\n",
    "            addr_width = math.ceil(math.log2(len(fields) * 2))\n",
    "        else:\n",
    "            addr_width = math.ceil(math.log2(len(fields)))\n",
    "\n",
    "        self.name = \"Top_\" + mode\n",
    "        if mode == \"pack\":\n",
    "            self.io = io = m.IO(apb=APBSlave(addr_width, data_width, 0))\n",
    "        else:\n",
    "            self.io = io = m.IO(apb=APBSlave(addr_width, data_width, [0, 1]))\n",
    "\n",
    "        dmas = [DMA(name=f\"dma{i}\") for i in range(2)]\n",
    "        if mode == \"pack\":\n",
    "            regs = tuple(Register(name + str(i)) for i in range(2) for name in\n",
    "                         fields)\n",
    "            reg_file = RegisterFileGenerator(regs, data_width=32)(name=\"reg_file\")\n",
    "            for i in range(2):\n",
    "                for name in fields:\n",
    "                    m.wire(getattr(reg_file, name + str(i) + \"_q\"),\n",
    "                           getattr(dmas[i], name))\n",
    "            m.wire(io.apb, reg_file.apb)\n",
    "            for i in range(2):\n",
    "                for name in fields:\n",
    "                    m.wire(getattr(reg_file, name + str(i) + \"_q\"),\n",
    "                           getattr(reg_file, name + str(i) + \"_d\"))\n",
    "        else:\n",
    "            apb_outputs = {}\n",
    "            for key, type_ in APBBase(addr_width, data_width).items():\n",
    "                if type_.is_input():\n",
    "                    apb_outputs[key] = []\n",
    "            for i in range(2):\n",
    "                regs = tuple(Register(name) for name in fields)\n",
    "                reg_file = RegisterFileGenerator(\n",
    "                    regs, data_width=32, apb_slave_id=i\n",
    "                )(name=f\"reg_file{i}\")\n",
    "                for name in fields:\n",
    "                    m.wire(getattr(reg_file, name + \"_q\"),\n",
    "                           getattr(dmas[i], name))\n",
    "                for key, type_ in APBBase(addr_width, data_width).items():\n",
    "                    if type_.is_output():\n",
    "                        m.wire(getattr(io.apb, key),\n",
    "                               getattr(reg_file.apb, key))\n",
    "                    else:\n",
    "                        apb_outputs[key].append(getattr(reg_file.apb, key))\n",
    "                m.wire(getattr(io.apb, f\"PSEL{i}\"),\n",
    "                       getattr(reg_file.apb, f\"PSEL{i}\"))\n",
    "                for name in fields:\n",
    "                    m.wire(getattr(reg_file, name + \"_q\"),\n",
    "                           getattr(reg_file, name + \"_d\"))\n",
    "            for key, values in apb_outputs.items():\n",
    "                m.wire(getattr(io.apb, key),\n",
    "                       mantle.mux(values, io.apb.PSEL1))"
   ]
  },
  {
   "cell_type": "markdown",
   "metadata": {
    "lines_to_next_cell": 0
   },
   "source": [
    "To test this top module, we can use the same read/write request functions that\n",
    "we created to test our register file.  Our test bench will be parametrized by\n",
    "mode, enabling the reuse of tests for both variants of the generated design.\n",
    "\n",
    "Here's a simple write test"
   ]
  },
  {
   "cell_type": "code",
   "execution_count": 5,
   "metadata": {},
   "outputs": [],
   "source": [
    "import fault\n",
    "\n",
    "dma_fields = [\"csr\", \"src_addr\", \"dst_addr\", \"txfr_len\"]\n",
    "\n",
    "def test_top_simple_write(mode, num_slaves):\n",
    "    Top = TopGenerator(mode=mode)\n",
    "    print(Top, mode)\n",
    "\n",
    "    tester = fault.Tester(Top, clock=Top.apb.PCLK)\n",
    "    tester.circuit.apb.PRESETn = 1\n",
    "\n",
    "    addr_width = len(Top.apb.PADDR)\n",
    "    data_width = len(Top.apb.PWDATA)\n",
    "    bus = APBBus(addr_width, data_width, num_slaves)\n",
    "    for i in range(2):\n",
    "        for addr, field in enumerate(dma_fields):\n",
    "            if mode == \"pack\":\n",
    "                addr += i * len(dma_fields)\n",
    "                slave_id = 0\n",
    "            else:\n",
    "                slave_id = i\n",
    "            data = fault.random.random_bv(data_width)\n",
    "            io, request = make_request(addr, data, addr_width, data_width,\n",
    "                                       num_slaves, slave_id)\n",
    "\n",
    "            write(bus, io, request, tester, addr, data)\n",
    "            if mode == \"pack\":\n",
    "                getattr(tester.circuit.reg_file, f\"{field}{i}_q\").expect(data)\n",
    "            else:\n",
    "                getattr(getattr(tester.circuit, f\"reg_file{i}\"),\n",
    "                        f\"{field}_q\").expect(data)\n",
    "            getattr(getattr(tester.circuit, f\"dma{i}\"),\n",
    "                    f\"{field}\").expect(data)\n",
    "\n",
    "    tester.compile_and_run(target=\"verilator\", magma_output=\"coreir-verilog\",\n",
    "                           magma_opts={\"verilator_debug\": True})"
   ]
  },
  {
   "cell_type": "markdown",
   "metadata": {},
   "source": [
    "We can test packed mode (1 slave)"
   ]
  },
  {
   "cell_type": "code",
   "execution_count": 6,
   "metadata": {},
   "outputs": [
    {
     "name": "stdout",
     "output_type": "stream",
     "text": [
      "Top_pack(apb: Tuple(PSEL0=In(Bit),PCLK=In(Clock),PRESETn=In(Reset),PADDR=In(Bits[3]),PPROT=In(Bit),PENABLE=In(Bit),PWRITE=In(Bit),PWDATA=In(Bits[32]),PSTRB=In(Bits[4]),PREADY=Out(Bit),PRDATA=Out(Bits[32]),PSLVERR=Out(Bit))) pack\n"
     ]
    },
    {
     "name": "stderr",
     "output_type": "stream",
     "text": [
      "root - INFO - Running tester...\n",
      "root - INFO - Success!\n"
     ]
    }
   ],
   "source": [
    "test_top_simple_write(\"pack\", 1)"
   ]
  },
  {
   "cell_type": "markdown",
   "metadata": {},
   "source": [
    "and distribute mode (2 slaves)"
   ]
  },
  {
   "cell_type": "code",
   "execution_count": 7,
   "metadata": {},
   "outputs": [
    {
     "name": "stdout",
     "output_type": "stream",
     "text": [
      "Top_distribute(apb: Tuple(PSEL0=In(Bit),PSEL1=In(Bit),PCLK=In(Clock),PRESETn=In(Reset),PADDR=In(Bits[2]),PPROT=In(Bit),PENABLE=In(Bit),PWRITE=In(Bit),PWDATA=In(Bits[32]),PSTRB=In(Bits[4]),PREADY=Out(Bit),PRDATA=Out(Bits[32]),PSLVERR=Out(Bit))) distribute\n"
     ]
    },
    {
     "name": "stderr",
     "output_type": "stream",
     "text": [
      "root - INFO - Running tester...\n",
      "root - INFO - Success!\n"
     ]
    }
   ],
   "source": [
    "test_top_simple_write(\"distribute\", 2)"
   ]
  },
  {
   "cell_type": "markdown",
   "metadata": {
    "lines_to_next_cell": 0
   },
   "source": [
    "We can write a similar test for a sequence of writes followed by a sequence of\n",
    "reads"
   ]
  },
  {
   "cell_type": "code",
   "execution_count": 8,
   "metadata": {},
   "outputs": [],
   "source": [
    "def test_top_write_then_reads(mode, num_slaves):\n",
    "    Top = TopGenerator(mode=mode)\n",
    "\n",
    "    tester = fault.Tester(Top, clock=Top.apb.PCLK)\n",
    "    tester.circuit.apb.PRESETn = 1\n",
    "\n",
    "    addr_width = len(Top.apb.PADDR)\n",
    "    data_width = len(Top.apb.PWDATA)\n",
    "    bus = APBBus(addr_width, data_width, num_slaves)\n",
    "    expected_values = []\n",
    "    for i in range(2):\n",
    "        for addr, field in enumerate(dma_fields):\n",
    "            if mode == \"pack\":\n",
    "                addr += i * len(dma_fields)\n",
    "                slave_id = 0\n",
    "            else:\n",
    "                slave_id = i\n",
    "            data = fault.random.random_bv(data_width)\n",
    "            expected_values.append(data)\n",
    "            io, request = make_request(addr, data, addr_width, data_width,\n",
    "                                       num_slaves, slave_id)\n",
    "            write(bus, io, request, tester, addr, data)\n",
    "\n",
    "    for i in range(2):\n",
    "        for addr, field in enumerate(dma_fields):\n",
    "            data = expected_values[addr + i * len(dma_fields)]\n",
    "            if mode == \"pack\":\n",
    "                addr += i * len(dma_fields)\n",
    "                slave_id = 0\n",
    "            else:\n",
    "                slave_id = i\n",
    "            io, request = make_request(addr, data, addr_width, data_width,\n",
    "                                       num_slaves, slave_id)\n",
    "            getattr(getattr(tester.circuit, f\"dma{i}\"),\n",
    "                    f\"{field}\").expect(data)\n",
    "            read(bus, io, request, tester, addr, data)\n",
    "\n",
    "    tester.compile_and_run(target=\"verilator\", magma_output=\"coreir-verilog\",\n",
    "                           magma_opts={\"verilator_debug\": True},\n",
    "                           flags=[\"--trace\", \"-Wno-UNUSED\", \"-Wno-UNDRIVEN\"], \n",
    "                           tmp_dir=True)"
   ]
  },
  {
   "cell_type": "code",
   "execution_count": 9,
   "metadata": {},
   "outputs": [
    {
     "name": "stderr",
     "output_type": "stream",
     "text": [
      "root - INFO - Running tester...\n",
      "root - INFO - Success!\n"
     ]
    }
   ],
   "source": [
    "test_top_write_then_reads(\"pack\", 1)"
   ]
  },
  {
   "cell_type": "markdown",
   "metadata": {},
   "source": [
    "and distribute mode (2 slaves)"
   ]
  },
  {
   "cell_type": "code",
   "execution_count": 10,
   "metadata": {},
   "outputs": [
    {
     "name": "stderr",
     "output_type": "stream",
     "text": [
      "root - INFO - Running tester...\n",
      "root - INFO - Success!\n"
     ]
    }
   ],
   "source": [
    "test_top_write_then_reads(\"distribute\", 2)"
   ]
  }
 ],
 "metadata": {
  "kernelspec": {
   "display_name": "Python 3",
   "language": "python",
   "name": "python3"
  },
  "language_info": {
   "codemirror_mode": {
    "name": "ipython",
    "version": 3
   },
   "file_extension": ".py",
   "mimetype": "text/x-python",
   "name": "python",
   "nbconvert_exporter": "python",
   "pygments_lexer": "ipython3",
   "version": "3.7.1"
  }
 },
 "nbformat": 4,
 "nbformat_minor": 2
}
