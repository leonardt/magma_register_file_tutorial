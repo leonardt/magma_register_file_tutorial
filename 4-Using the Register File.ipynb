{
 "cells": [
  {
   "cell_type": "code",
   "execution_count": 1,
   "metadata": {},
   "outputs": [],
   "source": [
    "%%capture\n",
    "%run 1-Register\\ File\\ Example.ipynb\n",
    "%run 2-Defining\\ an\\ APB\\ Model\\ in\\ Python.ipynb\n",
    "%run 3-Verifying\\ The\\ Register\\ File.ipynb"
   ]
  },
  {
   "cell_type": "code",
   "execution_count": 2,
   "metadata": {},
   "outputs": [],
   "source": [
    "# For some reason logging in this notebook doesn't work unless I explicitly set\n",
    "# the handler, I suspect this is due to some interaction with the above\n",
    "# notebooks being run (which configure their own loggers)\n",
    "# Adapted from https://github.com/ipython/ipykernel/issues/111#issuecomment-237089618\n",
    "\n",
    "import sys\n",
    "import logging\n",
    "\n",
    "# Create logger\n",
    "logger = logging.getLogger()\n",
    "logger.setLevel(logging.INFO)\n",
    "\n",
    "# Create STDERR handler\n",
    "handler = logging.StreamHandler(sys.stderr)\n",
    "\n",
    "# Create formatter and add it to the handler\n",
    "formatter = logging.Formatter('%(name)s - %(levelname)s - %(message)s')\n",
    "handler.setFormatter(formatter)\n",
    "\n",
    "# Set STDERR handler as the only handler \n",
    "logger.handlers = [handler]"
   ]
  },
  {
   "cell_type": "markdown",
   "metadata": {
    "lines_to_next_cell": 0
   },
   "source": [
    "First, we'll define a stub DMA module with a basic interface. We'll wire all\n",
    "the inputs to the CoreIR term module so that the downstream compiler does not\n",
    "complain about dangling wires."
   ]
  },
  {
   "cell_type": "code",
   "execution_count": 3,
   "metadata": {},
   "outputs": [],
   "source": [
    "import mantle\n",
    "\n",
    "\n",
    "class DMA(m.Circuit):\n",
    "    \"\"\"\n",
    "    Stub DMA module\n",
    "    \"\"\"\n",
    "    IO = [\"csr\", m.In(m.Bits[32]), \"src_addr\", m.In(m.Bits[32]),\n",
    "          \"dst_addr\", m.In(m.Bits[32]), \"txfr_len\", m.In(m.Bits[32])]\n",
    "\n",
    "    @classmethod\n",
    "    def definition(io):\n",
    "        mantle.coreir.DefineTerm(32)().I <= io.csr\n",
    "        mantle.coreir.DefineTerm(32)().I <= io.src_addr\n",
    "        mantle.coreir.DefineTerm(32)().I <= io.dst_addr\n",
    "        mantle.coreir.DefineTerm(32)().I <= io.txfr_len"
   ]
  },
  {
   "cell_type": "markdown",
   "metadata": {},
   "source": [
    "Now we'll define a top module containing two DMA instances that is\n",
    "parameterized by a mode `pack` or `distributed` which refers to the strategy\n",
    "for managing the configuration registers for the DMA. In the `pack` mode, the\n",
    "configuration registers are placed in a single register file that is shared by\n",
    "the two DMAs. In the `distributed` mode, each DMA has their own register file."
   ]
  },
  {
   "cell_type": "code",
   "execution_count": 4,
   "metadata": {},
   "outputs": [],
   "source": [
    "def DefineTop(mode=\"pack\"):\n",
    "    \"\"\"\n",
    "    Simple example that instances two stub DMA modules and is paramtrizable\n",
    "    over distributed versus packed register file\n",
    "    \"\"\"\n",
    "\n",
    "    if mode not in [\"pack\", \"distribute\"]:\n",
    "        raise ValueError(f\"Unexpected mode {mode}\")\n",
    "\n",
    "    fields = [\"csr\", \"src_addr\", \"dst_addr\", \"txfr_len\"]\n",
    "    data_width = 32\n",
    "    if mode == \"pack\":\n",
    "        addr_width = math.ceil(math.log2(len(fields) * 2))\n",
    "    else:\n",
    "        addr_width = math.ceil(math.log2(len(fields)))\n",
    "\n",
    "    class Top(m.Circuit):\n",
    "        name = \"Top_\" + mode\n",
    "        if mode == \"pack\":\n",
    "            IO = [\"apb\", APBSlave(addr_width, data_width, 0)]\n",
    "        else:\n",
    "            IO = [\"apb\", APBSlave(addr_width, data_width, [0, 1])]\n",
    "\n",
    "        @classmethod\n",
    "        def definition(io):\n",
    "            dmas = [DMA(name=f\"dma{i}\") for i in range(2)]\n",
    "            if mode == \"pack\":\n",
    "                regs = [Register(name + str(i)) for i in range(2) for name in\n",
    "                        fields]\n",
    "                reg_file = DefineRegFile(regs, data_width=32)(name=\"reg_file\")\n",
    "                for i in range(2):\n",
    "                    for name in fields:\n",
    "                        m.wire(getattr(reg_file, name + str(i) + \"_q\"),\n",
    "                               getattr(dmas[i], name))\n",
    "                m.wire(io.apb, reg_file.apb)\n",
    "                for i in range(2):\n",
    "                    for name in fields:\n",
    "                        m.wire(getattr(reg_file, name + str(i) + \"_q\"),\n",
    "                               getattr(reg_file, name + str(i) + \"_d\"))\n",
    "            else:\n",
    "                apb_outputs = {}\n",
    "                for key, type_ in APBBase(addr_width, data_width).items():\n",
    "                    if type_.isinput():\n",
    "                        apb_outputs[key] = []\n",
    "                for i in range(2):\n",
    "                    regs = [Register(name) for name in fields]\n",
    "                    reg_file = DefineRegFile(\n",
    "                        regs, data_width=32, apb_slave_id=i\n",
    "                    )(name=f\"reg_file{i}\")\n",
    "                    for name in fields:\n",
    "                        m.wire(getattr(reg_file, name + \"_q\"),\n",
    "                               getattr(dmas[i], name))\n",
    "                    for key, type_ in APBBase(addr_width, data_width).items():\n",
    "                        if type_.isoutput():\n",
    "                            m.wire(getattr(io.apb, key),\n",
    "                                   getattr(reg_file.apb, key))\n",
    "                        else:\n",
    "                            apb_outputs[key].append(getattr(reg_file.apb, key))\n",
    "                    m.wire(getattr(io.apb, f\"PSEL{i}\"),\n",
    "                           getattr(reg_file.apb, f\"PSEL{i}\"))\n",
    "                    for name in fields:\n",
    "                        m.wire(getattr(reg_file, name + \"_q\"),\n",
    "                               getattr(reg_file, name + \"_d\"))\n",
    "                for key, values in apb_outputs.items():\n",
    "                    m.wire(getattr(io.apb, key),\n",
    "                           mantle.mux(values, io.apb.PSEL1))\n",
    "    return Top"
   ]
  },
  {
   "cell_type": "markdown",
   "metadata": {
    "lines_to_next_cell": 0
   },
   "source": [
    "To test this top module, we can use the same read/write request functions that\n",
    "we created to test our register file.  Our test bench will be parametrized by\n",
    "mode, enabling the reuse of tests for both variants of the generated design.\n",
    "\n",
    "Here's a simple write test"
   ]
  },
  {
   "cell_type": "code",
   "execution_count": 5,
   "metadata": {},
   "outputs": [],
   "source": [
    "import fault\n",
    "\n",
    "dma_fields = [\"csr\", \"src_addr\", \"dst_addr\", \"txfr_len\"]\n",
    "\n",
    "def test_top_simple_write(mode, num_slaves):\n",
    "    Top = DefineTop(mode=mode)\n",
    "\n",
    "    tester = fault.Tester(Top, clock=Top.apb.PCLK)\n",
    "    tester.circuit.apb.PRESETn = 1\n",
    "\n",
    "    addr_width = len(Top.apb.PADDR)\n",
    "    data_width = len(Top.apb.PWDATA)\n",
    "    bus = APBBus(addr_width, data_width, num_slaves)\n",
    "    for i in range(2):\n",
    "        for addr, field in enumerate(dma_fields):\n",
    "            if mode == \"pack\":\n",
    "                addr += i * len(dma_fields)\n",
    "                slave_id = 0\n",
    "            else:\n",
    "                slave_id = i\n",
    "            data = fault.random.random_bv(data_width)\n",
    "            io, request = make_request(addr, data, addr_width, data_width,\n",
    "                                       num_slaves, slave_id)\n",
    "\n",
    "            write(bus, io, request, tester, addr, data)\n",
    "            if mode == \"pack\":\n",
    "                getattr(tester.circuit.reg_file, f\"{field}{i}_q\").expect(data)\n",
    "            else:\n",
    "                getattr(getattr(tester.circuit, f\"reg_file{i}\"),\n",
    "                        f\"{field}_q\").expect(data)\n",
    "            getattr(getattr(tester.circuit, f\"dma{i}\"),\n",
    "                    f\"{field}\").expect(data)\n",
    "\n",
    "    tester.compile_and_run(target=\"verilator\", magma_output=\"coreir-verilog\",\n",
    "                           magma_opts={\"verilator_debug\": True})"
   ]
  },
  {
   "cell_type": "markdown",
   "metadata": {},
   "source": [
    "We can test packed mode (1 slave)"
   ]
  },
  {
   "cell_type": "code",
   "execution_count": 6,
   "metadata": {},
   "outputs": [
    {
     "name": "stderr",
     "output_type": "stream",
     "text": [
      "\u001b[36m\u001b[1mRunning command: \u001b[0mverilator -Wall -Wno-INCABSPATH -Wno-DECLFILENAME --cc Top_pack.v --exe Top_pack_driver.cpp --top-module Top_pack\n",
      "\u001b[36m\u001b[1mRunning command: \u001b[0mverilator --version\n",
      "\u001b[35m\u001b[1m<STDOUT>\u001b[0m\n",
      "Verilator 4.016 2019-06-16 rev UNKNOWN_REV\n",
      "\u001b[35m\u001b[1m</STDOUT>\u001b[0m\n",
      "root - INFO - Running tester...\n",
      "\u001b[36m\u001b[1mRunning command: \u001b[0mmake -C obj_dir -j -f VTop_pack.mk VTop_pack\n",
      "\u001b[35m\u001b[1m<STDOUT>\u001b[0m\n",
      "clang++  -I.  -MMD -I/usr/local/Cellar/verilator/4.016/share/verilator/include -I/usr/local/Cellar/verilator/4.016/share/verilator/include/vltstd -DVL_PRINTF=printf -DVM_COVERAGE=0 -DVM_SC=0 -DVM_TRACE=0 -faligned-new -fbracket-depth=4096 -Qunused-arguments -Wno-parentheses-equality -Wno-sign-compare -Wno-uninitialized -Wno-unused-parameter -Wno-unused-variable -Wno-shadow       -c -o Top_pack_driver.o ../Top_pack_driver.cpp\n",
      "clang++  -I.  -MMD -I/usr/local/Cellar/verilator/4.016/share/verilator/include -I/usr/local/Cellar/verilator/4.016/share/verilator/include/vltstd -DVL_PRINTF=printf -DVM_COVERAGE=0 -DVM_SC=0 -DVM_TRACE=0 -faligned-new -fbracket-depth=4096 -Qunused-arguments -Wno-parentheses-equality -Wno-sign-compare -Wno-uninitialized -Wno-unused-parameter -Wno-unused-variable -Wno-shadow       -c -o verilated_dpi.o /usr/local/Cellar/verilator/4.016/share/verilator/include/verilated_dpi.cpp\n",
      "/usr/bin/perl /usr/local/Cellar/verilator/4.016/share/verilator/bin/verilator_includer -DVL_INCLUDE_OPT=include VTop_pack.cpp VTop_pack_Top_pack.cpp VTop_pack_RegFile_csr0_src_addr0_dst_addr0_txfr_len0_csr1_src_addr1_dst_addr1_txfr_len1.cpp VTop_pack_DMA.cpp VTop_pack_coreir_term__W4.cpp VTop_pack_coreir_term__W20.cpp VTop_pack_coreir_eq__W3.cpp VTop_pack_corebit_term.cpp VTop_pack_corebit_or.cpp VTop_pack_corebit_not.cpp VTop_pack_corebit_const__V0.cpp VTop_pack_corebit_and.cpp VTop_pack_Mux8xOutBits32.cpp VTop_pack_Register_has_ce_True_has_reset_True_has_async_reset_False_type_Bits_n_32.cpp VTop_pack_coreir_reg__I1_W20.cpp VTop_pack_coreir_const__V1_W20.cpp VTop_pack_coreir_const__V7_W3.cpp VTop_pack_coreir_const__V6_W3.cpp VTop_pack_coreir_const__V5_W3.cpp VTop_pack_coreir_const__V4_W3.cpp VTop_pack_coreir_const__V3_W3.cpp VTop_pack_coreir_const__V2_W3.cpp VTop_pack_coreir_const__V1_W3.cpp VTop_pack_coreir_const__V0_W3.cpp VTop_pack_commonlib_muxn___05FN8___05Fwidth32.cpp VTop_pack_Mux2xOutBits32.cpp VTop_pack_commonlib_muxn___05FN4___05Fwidth32.cpp VTop_pack_coreir_slice__W2.cpp VTop_pack_coreir_slice__H2_W3.cpp VTop_pack_commonlib_muxn___05FN2___05Fwidth32.cpp VTop_pack_coreir_mux__W20.cpp > VTop_pack__ALLcls.cpp\n",
      "/usr/bin/perl /usr/local/Cellar/verilator/4.016/share/verilator/bin/verilator_includer -DVL_INCLUDE_OPT=include VTop_pack__Dpi.cpp VTop_pack__Syms.cpp > VTop_pack__ALLsup.cpp\n",
      "clang++  -I.  -MMD -I/usr/local/Cellar/verilator/4.016/share/verilator/include -I/usr/local/Cellar/verilator/4.016/share/verilator/include/vltstd -DVL_PRINTF=printf -DVM_COVERAGE=0 -DVM_SC=0 -DVM_TRACE=0 -faligned-new -fbracket-depth=4096 -Qunused-arguments -Wno-parentheses-equality -Wno-sign-compare -Wno-uninitialized -Wno-unused-parameter -Wno-unused-variable -Wno-shadow       -c -o VTop_pack__ALLcls.o VTop_pack__ALLcls.cpp\n",
      "clang++  -I.  -MMD -I/usr/local/Cellar/verilator/4.016/share/verilator/include -I/usr/local/Cellar/verilator/4.016/share/verilator/include/vltstd -DVL_PRINTF=printf -DVM_COVERAGE=0 -DVM_SC=0 -DVM_TRACE=0 -faligned-new -fbracket-depth=4096 -Qunused-arguments -Wno-parentheses-equality -Wno-sign-compare -Wno-uninitialized -Wno-unused-parameter -Wno-unused-variable -Wno-shadow       -c -o VTop_pack__ALLsup.o VTop_pack__ALLsup.cpp\n",
      "      Archiving VTop_pack__ALL.a ...\n",
      "ar r VTop_pack__ALL.a VTop_pack__ALLcls.o VTop_pack__ALLsup.o\n",
      "ranlib VTop_pack__ALL.a\n",
      "clang++    Top_pack_driver.o verilated.o verilated_dpi.o VTop_pack__ALL.a    -o VTop_pack -lm -lstdc++\n",
      "\u001b[35m\u001b[1m</STDOUT>\u001b[0m\n",
      "\u001b[35m\u001b[1m<STDERR>\u001b[0m\n",
      "ar: creating archive VTop_pack__ALL.a\n",
      "\u001b[35m\u001b[1m</STDERR>\u001b[0m\n",
      "\u001b[36m\u001b[1mRunning command: \u001b[0m./obj_dir/VTop_pack\n",
      "root - INFO - Success!\n"
     ]
    }
   ],
   "source": [
    "test_top_simple_write(\"pack\", 1)"
   ]
  },
  {
   "cell_type": "markdown",
   "metadata": {},
   "source": [
    "and distribute mode (2 slaves)"
   ]
  },
  {
   "cell_type": "code",
   "execution_count": 7,
   "metadata": {},
   "outputs": [
    {
     "name": "stderr",
     "output_type": "stream",
     "text": [
      "\u001b[36m\u001b[1mRunning command: \u001b[0mverilator -Wall -Wno-INCABSPATH -Wno-DECLFILENAME --cc Top_distribute.v --exe Top_distribute_driver.cpp --top-module Top_distribute\n",
      "\u001b[36m\u001b[1mRunning command: \u001b[0mverilator --version\n",
      "\u001b[35m\u001b[1m<STDOUT>\u001b[0m\n",
      "Verilator 4.016 2019-06-16 rev UNKNOWN_REV\n",
      "\u001b[35m\u001b[1m</STDOUT>\u001b[0m\n",
      "root - INFO - Running tester...\n",
      "\u001b[36m\u001b[1mRunning command: \u001b[0mmake -C obj_dir -j -f VTop_distribute.mk VTop_distribute\n",
      "\u001b[35m\u001b[1m<STDOUT>\u001b[0m\n",
      "clang++  -I.  -MMD -I/usr/local/Cellar/verilator/4.016/share/verilator/include -I/usr/local/Cellar/verilator/4.016/share/verilator/include/vltstd -DVL_PRINTF=printf -DVM_COVERAGE=0 -DVM_SC=0 -DVM_TRACE=0 -faligned-new -fbracket-depth=4096 -Qunused-arguments -Wno-parentheses-equality -Wno-sign-compare -Wno-uninitialized -Wno-unused-parameter -Wno-unused-variable -Wno-shadow       -c -o Top_distribute_driver.o ../Top_distribute_driver.cpp\n",
      "/usr/bin/perl /usr/local/Cellar/verilator/4.016/share/verilator/bin/verilator_includer -DVL_INCLUDE_OPT=include VTop_distribute.cpp VTop_distribute_Top_distribute.cpp VTop_distribute_RegFile_csr_src_addr_dst_addr_txfr_len_unq1.cpp VTop_distribute_RegFile_csr_src_addr_dst_addr_txfr_len.cpp VTop_distribute_Mux2xOutBit.cpp VTop_distribute_DMA.cpp VTop_distribute_coreir_term__W4.cpp VTop_distribute_coreir_term__W20.cpp VTop_distribute_coreir_eq__W2.cpp VTop_distribute_corebit_term.cpp VTop_distribute_corebit_or.cpp VTop_distribute_corebit_not.cpp VTop_distribute_corebit_const__V0.cpp VTop_distribute_corebit_and.cpp VTop_distribute_commonlib_muxn___05FN2___05Fwidth1.cpp VTop_distribute_Mux4xOutBits32.cpp VTop_distribute_Register_has_ce_True_has_reset_True_has_async_reset_False_type_Bits_n_32.cpp VTop_distribute_coreir_reg__I1_W20.cpp VTop_distribute_coreir_const__V1_W20.cpp VTop_distribute_coreir_const__V3_W2.cpp VTop_distribute_coreir_const__V2_W2.cpp VTop_distribute_coreir_const__V1_W2.cpp VTop_distribute_coreir_const__V0_W2.cpp VTop_distribute_commonlib_muxn___05FN4___05Fwidth32.cpp VTop_distribute_Mux2xOutBits32.cpp VTop_distribute_coreir_slice__W2.cpp VTop_distribute_commonlib_muxn___05FN2___05Fwidth32.cpp VTop_distribute_coreir_mux.cpp VTop_distribute_coreir_mux__W20.cpp > VTop_distribute__ALLcls.cpp\n",
      "/usr/bin/perl /usr/local/Cellar/verilator/4.016/share/verilator/bin/verilator_includer -DVL_INCLUDE_OPT=include VTop_distribute__Dpi.cpp VTop_distribute__Syms.cpp > VTop_distribute__ALLsup.cpp\n",
      "clang++  -I.  -MMD -I/usr/local/Cellar/verilator/4.016/share/verilator/include -I/usr/local/Cellar/verilator/4.016/share/verilator/include/vltstd -DVL_PRINTF=printf -DVM_COVERAGE=0 -DVM_SC=0 -DVM_TRACE=0 -faligned-new -fbracket-depth=4096 -Qunused-arguments -Wno-parentheses-equality -Wno-sign-compare -Wno-uninitialized -Wno-unused-parameter -Wno-unused-variable -Wno-shadow       -c -o VTop_distribute__ALLcls.o VTop_distribute__ALLcls.cpp\n",
      "clang++  -I.  -MMD -I/usr/local/Cellar/verilator/4.016/share/verilator/include -I/usr/local/Cellar/verilator/4.016/share/verilator/include/vltstd -DVL_PRINTF=printf -DVM_COVERAGE=0 -DVM_SC=0 -DVM_TRACE=0 -faligned-new -fbracket-depth=4096 -Qunused-arguments -Wno-parentheses-equality -Wno-sign-compare -Wno-uninitialized -Wno-unused-parameter -Wno-unused-variable -Wno-shadow       -c -o VTop_distribute__ALLsup.o VTop_distribute__ALLsup.cpp\n",
      "      Archiving VTop_distribute__ALL.a ...\n",
      "ar r VTop_distribute__ALL.a VTop_distribute__ALLcls.o VTop_distribute__ALLsup.o\n",
      "ranlib VTop_distribute__ALL.a\n",
      "clang++    Top_distribute_driver.o verilated.o verilated_dpi.o VTop_distribute__ALL.a    -o VTop_distribute -lm -lstdc++\n",
      "\u001b[35m\u001b[1m</STDOUT>\u001b[0m\n",
      "\u001b[35m\u001b[1m<STDERR>\u001b[0m\n",
      "ar: creating archive VTop_distribute__ALL.a\n",
      "\u001b[35m\u001b[1m</STDERR>\u001b[0m\n",
      "\u001b[36m\u001b[1mRunning command: \u001b[0m./obj_dir/VTop_distribute\n",
      "root - INFO - Success!\n"
     ]
    }
   ],
   "source": [
    "test_top_simple_write(\"distribute\", 2)"
   ]
  },
  {
   "cell_type": "markdown",
   "metadata": {
    "lines_to_next_cell": 0
   },
   "source": [
    "We can write a similar test for a sequence of writes followed by a sequence of\n",
    "reads"
   ]
  },
  {
   "cell_type": "code",
   "execution_count": 8,
   "metadata": {},
   "outputs": [],
   "source": [
    "def test_top_write_then_reads(mode, num_slaves):\n",
    "    Top = DefineTop(mode=mode)\n",
    "\n",
    "    tester = fault.Tester(Top, clock=Top.apb.PCLK)\n",
    "    tester.circuit.apb.PRESETn = 1\n",
    "\n",
    "    addr_width = len(Top.apb.PADDR)\n",
    "    data_width = len(Top.apb.PWDATA)\n",
    "    bus = APBBus(addr_width, data_width, num_slaves)\n",
    "    expected_values = []\n",
    "    for i in range(2):\n",
    "        for addr, field in enumerate(dma_fields):\n",
    "            if mode == \"pack\":\n",
    "                addr += i * len(dma_fields)\n",
    "                slave_id = 0\n",
    "            else:\n",
    "                slave_id = i\n",
    "            data = fault.random.random_bv(data_width)\n",
    "            expected_values.append(data)\n",
    "            io, request = make_request(addr, data, addr_width, data_width,\n",
    "                                       num_slaves, slave_id)\n",
    "            write(bus, io, request, tester, addr, data)\n",
    "\n",
    "    for i in range(2):\n",
    "        for addr, field in enumerate(dma_fields):\n",
    "            data = expected_values[addr + i * len(dma_fields)]\n",
    "            if mode == \"pack\":\n",
    "                addr += i * len(dma_fields)\n",
    "                slave_id = 0\n",
    "            else:\n",
    "                slave_id = i\n",
    "            io, request = make_request(addr, data, addr_width, data_width,\n",
    "                                       num_slaves, slave_id)\n",
    "            getattr(getattr(tester.circuit, f\"dma{i}\"),\n",
    "                    f\"{field}\").expect(data)\n",
    "            read(bus, io, request, tester, addr, data)\n",
    "\n",
    "    tester.compile_and_run(target=\"verilator\", magma_output=\"coreir-verilog\",\n",
    "                           magma_opts={\"verilator_debug\": True},\n",
    "                           flags=[\"--trace\"])"
   ]
  },
  {
   "cell_type": "code",
   "execution_count": 9,
   "metadata": {},
   "outputs": [
    {
     "name": "stderr",
     "output_type": "stream",
     "text": [
      "\u001b[36m\u001b[1mRunning command: \u001b[0mverilator -Wall -Wno-INCABSPATH -Wno-DECLFILENAME --trace --cc Top_pack.v --exe Top_pack_driver.cpp --top-module Top_pack\n",
      "\u001b[36m\u001b[1mRunning command: \u001b[0mverilator --version\n",
      "\u001b[35m\u001b[1m<STDOUT>\u001b[0m\n",
      "Verilator 4.016 2019-06-16 rev UNKNOWN_REV\n",
      "\u001b[35m\u001b[1m</STDOUT>\u001b[0m\n",
      "root - INFO - Running tester...\n",
      "\u001b[36m\u001b[1mRunning command: \u001b[0mmake -C obj_dir -j -f VTop_pack.mk VTop_pack\n",
      "\u001b[35m\u001b[1m<STDOUT>\u001b[0m\n",
      "clang++  -I.  -MMD -I/usr/local/Cellar/verilator/4.016/share/verilator/include -I/usr/local/Cellar/verilator/4.016/share/verilator/include/vltstd -DVL_PRINTF=printf -DVM_COVERAGE=0 -DVM_SC=0 -DVM_TRACE=1 -faligned-new -fbracket-depth=4096 -Qunused-arguments -Wno-parentheses-equality -Wno-sign-compare -Wno-uninitialized -Wno-unused-parameter -Wno-unused-variable -Wno-shadow       -c -o Top_pack_driver.o ../Top_pack_driver.cpp\n",
      "clang++  -I.  -MMD -I/usr/local/Cellar/verilator/4.016/share/verilator/include -I/usr/local/Cellar/verilator/4.016/share/verilator/include/vltstd -DVL_PRINTF=printf -DVM_COVERAGE=0 -DVM_SC=0 -DVM_TRACE=1 -faligned-new -fbracket-depth=4096 -Qunused-arguments -Wno-parentheses-equality -Wno-sign-compare -Wno-uninitialized -Wno-unused-parameter -Wno-unused-variable -Wno-shadow       -c -o verilated_vcd_c.o /usr/local/Cellar/verilator/4.016/share/verilator/include/verilated_vcd_c.cpp\n",
      "/usr/bin/perl /usr/local/Cellar/verilator/4.016/share/verilator/bin/verilator_includer -DVL_INCLUDE_OPT=include VTop_pack.cpp VTop_pack_Top_pack.cpp VTop_pack_RegFile_csr0_src_addr0_dst_addr0_txfr_len0_csr1_src_addr1_dst_addr1_txfr_len1.cpp VTop_pack_DMA.cpp VTop_pack_coreir_term__W4.cpp VTop_pack_coreir_term__W20.cpp VTop_pack_coreir_eq__W3.cpp VTop_pack_corebit_term.cpp VTop_pack_corebit_or.cpp VTop_pack_corebit_not.cpp VTop_pack_corebit_const__V0.cpp VTop_pack_corebit_and.cpp VTop_pack_Mux8xOutBits32.cpp VTop_pack_Register_has_ce_True_has_reset_True_has_async_reset_False_type_Bits_n_32.cpp VTop_pack_coreir_reg__I1_W20.cpp VTop_pack_coreir_const__V1_W20.cpp VTop_pack_coreir_const__V7_W3.cpp VTop_pack_coreir_const__V6_W3.cpp VTop_pack_coreir_const__V5_W3.cpp VTop_pack_coreir_const__V4_W3.cpp VTop_pack_coreir_const__V3_W3.cpp VTop_pack_coreir_const__V2_W3.cpp VTop_pack_coreir_const__V1_W3.cpp VTop_pack_coreir_const__V0_W3.cpp VTop_pack_commonlib_muxn___05FN8___05Fwidth32.cpp VTop_pack_Mux2xOutBits32.cpp VTop_pack_commonlib_muxn___05FN4___05Fwidth32.cpp VTop_pack_coreir_slice__W2.cpp VTop_pack_coreir_slice__H2_W3.cpp VTop_pack_commonlib_muxn___05FN2___05Fwidth32.cpp VTop_pack_coreir_mux__W20.cpp > VTop_pack__ALLcls.cpp\n",
      "/usr/bin/perl /usr/local/Cellar/verilator/4.016/share/verilator/bin/verilator_includer -DVL_INCLUDE_OPT=include VTop_pack__Dpi.cpp VTop_pack__Trace.cpp VTop_pack__Syms.cpp VTop_pack__Trace__Slow.cpp > VTop_pack__ALLsup.cpp\n",
      "clang++  -I.  -MMD -I/usr/local/Cellar/verilator/4.016/share/verilator/include -I/usr/local/Cellar/verilator/4.016/share/verilator/include/vltstd -DVL_PRINTF=printf -DVM_COVERAGE=0 -DVM_SC=0 -DVM_TRACE=1 -faligned-new -fbracket-depth=4096 -Qunused-arguments -Wno-parentheses-equality -Wno-sign-compare -Wno-uninitialized -Wno-unused-parameter -Wno-unused-variable -Wno-shadow       -c -o VTop_pack__ALLcls.o VTop_pack__ALLcls.cpp\n",
      "clang++  -I.  -MMD -I/usr/local/Cellar/verilator/4.016/share/verilator/include -I/usr/local/Cellar/verilator/4.016/share/verilator/include/vltstd -DVL_PRINTF=printf -DVM_COVERAGE=0 -DVM_SC=0 -DVM_TRACE=1 -faligned-new -fbracket-depth=4096 -Qunused-arguments -Wno-parentheses-equality -Wno-sign-compare -Wno-uninitialized -Wno-unused-parameter -Wno-unused-variable -Wno-shadow       -c -o VTop_pack__ALLsup.o VTop_pack__ALLsup.cpp\n",
      "      Archiving VTop_pack__ALL.a ...\n",
      "ar r VTop_pack__ALL.a VTop_pack__ALLcls.o VTop_pack__ALLsup.o\n",
      "ranlib VTop_pack__ALL.a\n",
      "clang++    Top_pack_driver.o verilated.o verilated_dpi.o verilated_vcd_c.o VTop_pack__ALL.a    -o VTop_pack -lm -lstdc++\n",
      "\u001b[35m\u001b[1m</STDOUT>\u001b[0m\n",
      "\u001b[36m\u001b[1mRunning command: \u001b[0m./obj_dir/VTop_pack\n",
      "root - INFO - Success!\n"
     ]
    }
   ],
   "source": [
    "test_top_write_then_reads(\"pack\", 1)"
   ]
  },
  {
   "cell_type": "markdown",
   "metadata": {},
   "source": [
    "and distribute mode (2 slaves)"
   ]
  },
  {
   "cell_type": "code",
   "execution_count": 10,
   "metadata": {},
   "outputs": [
    {
     "name": "stderr",
     "output_type": "stream",
     "text": [
      "\u001b[36m\u001b[1mRunning command: \u001b[0mverilator -Wall -Wno-INCABSPATH -Wno-DECLFILENAME --trace --cc Top_distribute.v --exe Top_distribute_driver.cpp --top-module Top_distribute\n",
      "\u001b[36m\u001b[1mRunning command: \u001b[0mverilator --version\n",
      "\u001b[35m\u001b[1m<STDOUT>\u001b[0m\n",
      "Verilator 4.016 2019-06-16 rev UNKNOWN_REV\n",
      "\u001b[35m\u001b[1m</STDOUT>\u001b[0m\n",
      "root - INFO - Running tester...\n",
      "\u001b[36m\u001b[1mRunning command: \u001b[0mmake -C obj_dir -j -f VTop_distribute.mk VTop_distribute\n",
      "\u001b[35m\u001b[1m<STDOUT>\u001b[0m\n",
      "clang++  -I.  -MMD -I/usr/local/Cellar/verilator/4.016/share/verilator/include -I/usr/local/Cellar/verilator/4.016/share/verilator/include/vltstd -DVL_PRINTF=printf -DVM_COVERAGE=0 -DVM_SC=0 -DVM_TRACE=1 -faligned-new -fbracket-depth=4096 -Qunused-arguments -Wno-parentheses-equality -Wno-sign-compare -Wno-uninitialized -Wno-unused-parameter -Wno-unused-variable -Wno-shadow       -c -o Top_distribute_driver.o ../Top_distribute_driver.cpp\n",
      "/usr/bin/perl /usr/local/Cellar/verilator/4.016/share/verilator/bin/verilator_includer -DVL_INCLUDE_OPT=include VTop_distribute.cpp VTop_distribute_Top_distribute.cpp VTop_distribute_RegFile_csr_src_addr_dst_addr_txfr_len_unq1.cpp VTop_distribute_RegFile_csr_src_addr_dst_addr_txfr_len.cpp VTop_distribute_Mux2xOutBit.cpp VTop_distribute_DMA.cpp VTop_distribute_coreir_term__W4.cpp VTop_distribute_coreir_term__W20.cpp VTop_distribute_coreir_eq__W2.cpp VTop_distribute_corebit_term.cpp VTop_distribute_corebit_or.cpp VTop_distribute_corebit_not.cpp VTop_distribute_corebit_const__V0.cpp VTop_distribute_corebit_and.cpp VTop_distribute_commonlib_muxn___05FN2___05Fwidth1.cpp VTop_distribute_Mux4xOutBits32.cpp VTop_distribute_Register_has_ce_True_has_reset_True_has_async_reset_False_type_Bits_n_32.cpp VTop_distribute_coreir_reg__I1_W20.cpp VTop_distribute_coreir_const__V1_W20.cpp VTop_distribute_coreir_const__V3_W2.cpp VTop_distribute_coreir_const__V2_W2.cpp VTop_distribute_coreir_const__V1_W2.cpp VTop_distribute_coreir_const__V0_W2.cpp VTop_distribute_commonlib_muxn___05FN4___05Fwidth32.cpp VTop_distribute_Mux2xOutBits32.cpp VTop_distribute_coreir_slice__W2.cpp VTop_distribute_commonlib_muxn___05FN2___05Fwidth32.cpp VTop_distribute_coreir_mux.cpp VTop_distribute_coreir_mux__W20.cpp > VTop_distribute__ALLcls.cpp\n",
      "/usr/bin/perl /usr/local/Cellar/verilator/4.016/share/verilator/bin/verilator_includer -DVL_INCLUDE_OPT=include VTop_distribute__Dpi.cpp VTop_distribute__Trace.cpp VTop_distribute__Syms.cpp VTop_distribute__Trace__Slow.cpp > VTop_distribute__ALLsup.cpp\n",
      "clang++  -I.  -MMD -I/usr/local/Cellar/verilator/4.016/share/verilator/include -I/usr/local/Cellar/verilator/4.016/share/verilator/include/vltstd -DVL_PRINTF=printf -DVM_COVERAGE=0 -DVM_SC=0 -DVM_TRACE=1 -faligned-new -fbracket-depth=4096 -Qunused-arguments -Wno-parentheses-equality -Wno-sign-compare -Wno-uninitialized -Wno-unused-parameter -Wno-unused-variable -Wno-shadow       -c -o VTop_distribute__ALLsup.o VTop_distribute__ALLsup.cpp\n",
      "clang++  -I.  -MMD -I/usr/local/Cellar/verilator/4.016/share/verilator/include -I/usr/local/Cellar/verilator/4.016/share/verilator/include/vltstd -DVL_PRINTF=printf -DVM_COVERAGE=0 -DVM_SC=0 -DVM_TRACE=1 -faligned-new -fbracket-depth=4096 -Qunused-arguments -Wno-parentheses-equality -Wno-sign-compare -Wno-uninitialized -Wno-unused-parameter -Wno-unused-variable -Wno-shadow       -c -o VTop_distribute__ALLcls.o VTop_distribute__ALLcls.cpp\n",
      "      Archiving VTop_distribute__ALL.a ...\n",
      "ar r VTop_distribute__ALL.a VTop_distribute__ALLcls.o VTop_distribute__ALLsup.o\n",
      "ranlib VTop_distribute__ALL.a\n",
      "clang++    Top_distribute_driver.o verilated.o verilated_dpi.o verilated_vcd_c.o VTop_distribute__ALL.a    -o VTop_distribute -lm -lstdc++\n",
      "\u001b[35m\u001b[1m</STDOUT>\u001b[0m\n",
      "\u001b[36m\u001b[1mRunning command: \u001b[0m./obj_dir/VTop_distribute\n",
      "root - INFO - Success!\n"
     ]
    }
   ],
   "source": [
    "test_top_write_then_reads(\"distribute\", 2)"
   ]
  }
 ],
 "metadata": {
  "kernelspec": {
   "display_name": "Python 3",
   "language": "python",
   "name": "python3"
  },
  "language_info": {
   "codemirror_mode": {
    "name": "ipython",
    "version": 3
   },
   "file_extension": ".py",
   "mimetype": "text/x-python",
   "name": "python",
   "nbconvert_exporter": "python",
   "pygments_lexer": "ipython3",
   "version": "3.7.1"
  }
 },
 "nbformat": 4,
 "nbformat_minor": 2
}
