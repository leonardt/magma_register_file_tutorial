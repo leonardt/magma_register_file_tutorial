{
 "cells": [
  {
   "cell_type": "markdown",
   "metadata": {},
   "source": [
    "\n",
    "# Defining an APB Model in Python\n",
    "\n",
    "In order to Verify our Register File Generator, we'll define an executable APB\n",
    "Model as a Python an object.  We'll use this model to generate the low-level\n",
    "input stimuli for issuing requests over the APBBus.\n",
    "\n",
    "This implementation is based on the [ARM AMBA 3 APB Protocol\n",
    "Specification](https://static.docs.arm.com/ihi0024/b/AMBA3apb.pdf), Copyright ©\n",
    "2003, 2004. ARM Limited. All rights reserved.  \n",
    "\n",
    "The basic architecture of our APBModel will be a Python object that translates\n",
    "various APB bus requests into low-level input stimuli.  That is, we'd like\n",
    "interface where can tell the model to write some data to a specifc address.\n",
    "The model is responsible for translating that request into a sequence of cycle\n",
    "accurate inputs for the APBBus.  Because this is a two way protocol, we'll also\n",
    "need a mechanism for providing inputs to the APB model that come from the slave\n",
    "(i.e. the `PREADY` line which a slave uses to indicate that a request has been\n",
    "processed).\n",
    "\n",
    "First, we define a helper function that will be used to cache our Python type\n",
    "generators.  This is essential so we can do comparisons of generated types\n",
    "(i.e. check if `type0 == type1`) by doing object equality.  Consider the\n",
    "following Python code for dynamically constructing a class with a parameter `n`\n",
    "that is used to set a class attribute `n`."
   ]
  },
  {
   "cell_type": "code",
   "execution_count": 1,
   "metadata": {},
   "outputs": [],
   "source": [
    "def make_A(n):\n",
    "    class A:\n",
    "        __n = n\n",
    "    return A"
   ]
  },
  {
   "cell_type": "markdown",
   "metadata": {},
   "source": [
    "Suppose we'd like to compare the equality of two invocations of this class\n",
    "factory function with the same parameter"
   ]
  },
  {
   "cell_type": "code",
   "execution_count": 2,
   "metadata": {},
   "outputs": [
    {
     "data": {
      "text/plain": [
       "False"
      ]
     },
     "execution_count": 2,
     "metadata": {},
     "output_type": "execute_result"
    }
   ],
   "source": [
    "make_A(3) == make_A(3)"
   ]
  },
  {
   "cell_type": "markdown",
   "metadata": {},
   "source": [
    "In this case, we'd like the result to be `True`. There's a few ways to handle\n",
    "this issue, but we'll use a cache based pattern to cache objects created\n",
    "by the `make_A` function based on the input parameter.  Python provides\n",
    "a built in library function to do this called `functools.lru_cache`\n",
    "(https://docs.python.org/3/library/functools.html#functools.lru_cache)."
   ]
  },
  {
   "cell_type": "code",
   "execution_count": 3,
   "metadata": {},
   "outputs": [
    {
     "data": {
      "text/plain": [
       "True"
      ]
     },
     "execution_count": 3,
     "metadata": {},
     "output_type": "execute_result"
    }
   ],
   "source": [
    "from functools import lru_cache\n",
    "\n",
    "@lru_cache(maxsize=None)\n",
    "def make_A(n):\n",
    "    class A:\n",
    "        __n = n\n",
    "    return A\n",
    "\n",
    "make_A(3) == make_A(3)"
   ]
  },
  {
   "cell_type": "markdown",
   "metadata": {},
   "source": [
    "`functools.lru_cache` memoizes calls to the function, but by default it doesn't\n",
    "handle keyword arguments with default values. "
   ]
  },
  {
   "cell_type": "code",
   "execution_count": 4,
   "metadata": {},
   "outputs": [
    {
     "data": {
      "text/plain": [
       "False"
      ]
     },
     "execution_count": 4,
     "metadata": {},
     "output_type": "execute_result"
    }
   ],
   "source": [
    "@lru_cache(maxsize=None)\n",
    "def make_A(n=3):\n",
    "    class A:\n",
    "        __n = n\n",
    "    return A\n",
    "\n",
    "make_A(3) == make_A()"
   ]
  },
  {
   "cell_type": "markdown",
   "metadata": {},
   "source": [
    "To remedy this, we'll augment it with another decorater based on\n",
    "https://stackoverflow.com/questions/36771866/memoization-caching-with-default-optional-arguments"
   ]
  },
  {
   "cell_type": "code",
   "execution_count": 5,
   "metadata": {},
   "outputs": [],
   "source": [
    "import inspect\n",
    "from functools import wraps\n",
    "\n",
    "\n",
    "def canonicalize_args(f):\n",
    "    \"\"\"Wrapper for functools.lru_cache() to canonicalize default\n",
    "    and keyword arguments so cache hits are maximized.\"\"\"\n",
    "\n",
    "    @wraps(f)\n",
    "    def wrapper(*args, **kwargs):\n",
    "        sig = inspect.getfullargspec(f.__wrapped__)\n",
    "\n",
    "        # build newargs by filling in defaults, args, kwargs\n",
    "        newargs = [None] * len(sig.args)\n",
    "        if sig.defaults is not None:\n",
    "            newargs[-len(sig.defaults):] = sig.defaults\n",
    "        newargs[:len(args)] = args\n",
    "        for name, value in kwargs.items():\n",
    "            newargs[sig.args.index(name)] = value\n",
    "\n",
    "        return f(*newargs)\n",
    "\n",
    "    return wrapper"
   ]
  },
  {
   "cell_type": "markdown",
   "metadata": {},
   "source": [
    "Let's try it out"
   ]
  },
  {
   "cell_type": "code",
   "execution_count": 6,
   "metadata": {},
   "outputs": [
    {
     "data": {
      "text/plain": [
       "True"
      ]
     },
     "execution_count": 6,
     "metadata": {},
     "output_type": "execute_result"
    }
   ],
   "source": [
    "@canonicalize_args\n",
    "@lru_cache(maxsize=None)\n",
    "def make_A(n=3):\n",
    "    class A:\n",
    "        __n = n\n",
    "    return A\n",
    "\n",
    "make_A(3) == make_A()"
   ]
  },
  {
   "cell_type": "markdown",
   "metadata": {},
   "source": [
    "With this cacheing infrastructure in place, we'll now move on to defining our\n",
    "APB type generators as Python functions that return Python types modeling\n",
    "various components of the APB interface.\n",
    "\n",
    "First we'll define an enumerated type to model our APB commands.  We'll do this\n",
    "using the base types provided by the\n",
    "[hwtypes](https://github.com/leonardt/hwtypes) Python package which provides\n",
    "various convenient algebraic data types (ADTs) including `Enum` and `Product`\n",
    "(we'll use Product next).\n"
   ]
  },
  {
   "cell_type": "code",
   "execution_count": 7,
   "metadata": {},
   "outputs": [],
   "source": [
    "from hwtypes import Enum, Product\n",
    "\n",
    "class APBCommand(Enum):\n",
    "    READ = 0\n",
    "    WRITE = 1\n",
    "    IDLE = 2"
   ]
  },
  {
   "cell_type": "markdown",
   "metadata": {},
   "source": [
    "Now we'll define an `APB` type generator by extending Peak's `Product` type.\n",
    "Our complex APB type will be defined in terms of the more basic `Bit` and\n",
    "`BitVector` types from the [hwtypes](https://github.com/leonardt/hwtypes)\n",
    "package.  These types provide a Python executable model for fixed width bit\n",
    "vectors and single bits with various operators defined.\n",
    "\n",
    "Here's an example of using these types"
   ]
  },
  {
   "cell_type": "code",
   "execution_count": 8,
   "metadata": {},
   "outputs": [
    {
     "name": "stdout",
     "output_type": "stream",
     "text": [
      "a ^ b = Bit(True)\n",
      "~c & d = 1\n"
     ]
    }
   ],
   "source": [
    "from hwtypes import Bit, BitVector\n",
    "\n",
    "a = Bit(0)\n",
    "b = Bit(1)\n",
    "print(f\"a ^ b = {a ^ b}\")\n",
    "\n",
    "\n",
    "c = BitVector[4](0xE)\n",
    "d = BitVector[4](0xF)\n",
    "print(f\"~c & d = {~c & d}\")"
   ]
  },
  {
   "cell_type": "markdown",
   "metadata": {},
   "source": [
    "Our APB type generator will create a `Product` type (similar to a struct in C)\n",
    "with fields corresponding to each port in the APB specification as defined in\n",
    "Table 4-1 (page 4-2) of the [APB\n",
    "Specification](https://static.docs.arm.com/ihi0024/b/AMBA3apb.pdf)"
   ]
  },
  {
   "cell_type": "code",
   "execution_count": 9,
   "metadata": {},
   "outputs": [],
   "source": [
    "import math\n",
    "\n",
    "@canonicalize_args\n",
    "@lru_cache(maxsize=None)\n",
    "def APB(addr_width, data_width, num_slaves=1):\n",
    "    \"\"\"\n",
    "    Constructs a concrete APB type based on the `addr_width`, `data_width` and\n",
    "    `num_slaves` parameters.  Rather than using the standard subclassing\n",
    "    syntax, we dynamically construct a dictionary containing our field names\n",
    "    and types, then use Python's `type` function to construct our new type\n",
    "    definition.\n",
    "\n",
    "    This allows us to dynamically add more fields based on the number of\n",
    "    slaves.\n",
    "    \"\"\"\n",
    "    strobe_width = math.ceil(data_width / 8)\n",
    "\n",
    "    fields = {\n",
    "        \"PADDR\": BitVector[addr_width],\n",
    "        \"PWRITE\": Bit,\n",
    "    }\n",
    "\n",
    "    # Dynamically add `PSELx` fields based on `num_slaves` parameter\n",
    "    for i in range(num_slaves):\n",
    "        fields[f\"PSEL{i}\"] = Bit\n",
    "\n",
    "    fields.update({\n",
    "        \"PENABLE\": Bit,\n",
    "        \"PWDATA\": BitVector[data_width],\n",
    "        \"PRDATA\": BitVector[data_width],\n",
    "        \"PREADY\": Bit,\n",
    "        \"PSTRB\": BitVector[strobe_width],\n",
    "        \"PPROT\": Bit,\n",
    "        \"SLVERR\": Bit,\n",
    "    })\n",
    "\n",
    "    result = type(\"_APB\", (Product, ), fields)\n",
    "    return result\n",
    "\n",
    "\n",
    "def default_APB_instance(_APB):\n",
    "    \"\"\"\n",
    "    Convenience function to instantiate an _APB object with default values of 0\n",
    "    \"\"\"\n",
    "    fields = {}\n",
    "    for key, value in _APB.field_dict.items():\n",
    "        fields[key] = value(0)\n",
    "    return _APB(**fields)"
   ]
  },
  {
   "cell_type": "markdown",
   "metadata": {},
   "source": [
    "Let's test it out\n"
   ]
  },
  {
   "cell_type": "code",
   "execution_count": 10,
   "metadata": {
    "lines_to_next_cell": 2
   },
   "outputs": [
    {
     "name": "stdout",
     "output_type": "stream",
     "text": [
      "========= Type  ==========\n",
      "{'PADDR': <class 'hwtypes.bit_vector.BitVector[16]'>,\n",
      " 'PENABLE': <class 'hwtypes.bit_vector.Bit'>,\n",
      " 'PPROT': <class 'hwtypes.bit_vector.Bit'>,\n",
      " 'PRDATA': <class 'hwtypes.bit_vector.BitVector[32]'>,\n",
      " 'PREADY': <class 'hwtypes.bit_vector.Bit'>,\n",
      " 'PSEL0': <class 'hwtypes.bit_vector.Bit'>,\n",
      " 'PSEL1': <class 'hwtypes.bit_vector.Bit'>,\n",
      " 'PSTRB': <class 'hwtypes.bit_vector.BitVector[4]'>,\n",
      " 'PWDATA': <class 'hwtypes.bit_vector.BitVector[32]'>,\n",
      " 'PWRITE': <class 'hwtypes.bit_vector.Bit'>,\n",
      " 'SLVERR': <class 'hwtypes.bit_vector.Bit'>}\n",
      "==========================\n",
      "===== Default Value ======\n",
      "{'PADDR': BitVector[16](0),\n",
      " 'PENABLE': Bit(False),\n",
      " 'PPROT': Bit(False),\n",
      " 'PRDATA': BitVector[32](0),\n",
      " 'PREADY': Bit(False),\n",
      " 'PSEL0': Bit(False),\n",
      " 'PSEL1': Bit(False),\n",
      " 'PSTRB': BitVector[4](0),\n",
      " 'PWDATA': BitVector[32](0),\n",
      " 'PWRITE': Bit(False),\n",
      " 'SLVERR': Bit(False)}\n",
      "==========================\n"
     ]
    }
   ],
   "source": [
    "_APB = APB(16, 32, num_slaves=2)\n",
    "\n",
    "import pprint\n",
    "pp = pprint.PrettyPrinter()\n",
    "# We can use the `field_dict` property to fetch a dictionary mapping fields to\n",
    "# types in our concrete type definition\n",
    "print(\"========= Type  ==========\")\n",
    "pp.pprint(dict(_APB.field_dict))\n",
    "print(\"==========================\")\n",
    "# For an instance of the type, we can use `value_dict` to fetch a dictionary\n",
    "# mapping fields to values\n",
    "print(\"===== Default Value ======\")\n",
    "pp.pprint(dict(default_APB_instance(_APB).value_dict))\n",
    "print(\"==========================\")"
   ]
  },
  {
   "cell_type": "markdown",
   "metadata": {},
   "source": [
    "Now we'll define a type generator for an APB Request as a Product type with\n",
    "fields for a command, address, data, and slave id.  This type will be used\n",
    "to initiate a request using the model.\n"
   ]
  },
  {
   "cell_type": "code",
   "execution_count": 11,
   "metadata": {},
   "outputs": [],
   "source": [
    "@canonicalize_args\n",
    "@lru_cache(maxsize=None)\n",
    "def Request(addr_width, data_width, num_slaves):\n",
    "    class _Request(Product):\n",
    "        command = APBCommand\n",
    "        address = BitVector[addr_width]\n",
    "        data = BitVector[data_width]\n",
    "        slave_id = BitVector[max(math.ceil(math.log2(num_slaves)), 1)]\n",
    "    return _Request"
   ]
  },
  {
   "cell_type": "markdown",
   "metadata": {},
   "source": [
    "Let's test it out\n"
   ]
  },
  {
   "cell_type": "code",
   "execution_count": 12,
   "metadata": {
    "lines_to_next_cell": 2
   },
   "outputs": [
    {
     "name": "stdout",
     "output_type": "stream",
     "text": [
      "========= Type  ==========\n",
      "{'address': <class 'hwtypes.bit_vector.BitVector[16]'>,\n",
      " 'command': APBCommand,\n",
      " 'data': <class 'hwtypes.bit_vector.BitVector[32]'>,\n",
      " 'slave_id': <class 'hwtypes.bit_vector.BitVector[1]'>}\n",
      "==========================\n",
      "===== Default Value ======\n",
      "{'address': BitVector[16](222),\n",
      " 'command': APBCommand.WRITE,\n",
      " 'data': BitVector[32](48879),\n",
      " 'slave_id': BitVector[1](1)}\n",
      "==========================\n"
     ]
    }
   ],
   "source": [
    "_Request = Request(16, 32, 2)\n",
    "\n",
    "print(\"========= Type  ==========\")\n",
    "pp.pprint(dict(_Request.field_dict))\n",
    "print(\"==========================\")\n",
    "request_val = _Request(APBCommand.WRITE, BitVector[16](0xDE),\n",
    "                       BitVector[32](0xBEEF), BitVector[1](1))\n",
    "print(\"===== Default Value ======\")\n",
    "pp.pprint(dict(request_val.value_dict))\n",
    "print(\"==========================\")"
   ]
  },
  {
   "cell_type": "markdown",
   "metadata": {},
   "source": [
    "We'll define a similar type to model the IO of our APBBus master which will\n",
    "consist of a request to execute and an APBBus.  We'll use `request` to initiate\n",
    "a request with the model and `apb` to sample the input stimuli.\n"
   ]
  },
  {
   "cell_type": "code",
   "execution_count": 13,
   "metadata": {},
   "outputs": [],
   "source": [
    "@canonicalize_args\n",
    "@lru_cache(maxsize=None)\n",
    "def APBBusIO(addr_width, data_width, num_slaves=1):\n",
    "    class IO(Product):\n",
    "        apb = APB(addr_width, data_width, num_slaves)\n",
    "        request = Request(addr_width, data_width, num_slaves)\n",
    "    return IO"
   ]
  },
  {
   "cell_type": "markdown",
   "metadata": {},
   "source": [
    "Let's test it out\n"
   ]
  },
  {
   "cell_type": "code",
   "execution_count": 14,
   "metadata": {},
   "outputs": [
    {
     "name": "stdout",
     "output_type": "stream",
     "text": [
      "========= Type  ==========\n",
      "{'apb': Product('_APB', PADDR=BitVector[16], PWRITE=Bit, PSEL0=Bit, PSEL1=Bit, PENABLE=Bit, PWDATA=BitVector[32], PRDATA=BitVector[32], PREADY=Bit, PSTRB=BitVector[4], PPROT=Bit, SLVERR=Bit),\n",
      " 'request': Product('_Request', command=APBCommand, address=BitVector[16], data=BitVector[32], slave_id=BitVector[1])}\n",
      "==========================\n",
      "===== Default Value ======\n",
      "{'apb': _APB(BitVector[16](0),Bit(False),Bit(False),Bit(False),Bit(False),BitVector[32](0),BitVector[32](0),Bit(False),BitVector[4](0),Bit(False),Bit(False)),\n",
      " 'request': _Request(APBCommand.WRITE,BitVector[16](222),BitVector[32](48879),BitVector[1](1))}\n",
      "==========================\n"
     ]
    }
   ],
   "source": [
    "_APBBusIO = APBBusIO(16, 32, 2)\n",
    "\n",
    "print(\"========= Type  ==========\")\n",
    "pp.pprint(dict(_APBBusIO.field_dict))\n",
    "print(\"==========================\")\n",
    "print(\"===== Default Value ======\")\n",
    "pp.pprint(dict(_APBBusIO(default_APB_instance(_APB), request_val).value_dict))\n",
    "print(\"==========================\")"
   ]
  },
  {
   "cell_type": "markdown",
   "metadata": {},
   "source": [
    "Now we'll define a Python coroutine to model our APBBus with the ability to\n",
    "mock requests from a master.  The behavior of the coroutine will emulate the\n",
    "cycle-accurate behavior of the bus.  Thus, advancing the coroutine once will\n",
    "model advancing one clock cycle in time.  IO with the model will be perfromed\n",
    "by setting the `io` attribute (e.g. perform a read request by setting\n",
    "`io.request` and then advancing the coroutine and sampling the output values of\n",
    "`io.apb`).\n"
   ]
  },
  {
   "cell_type": "code",
   "execution_count": 15,
   "metadata": {},
   "outputs": [],
   "source": [
    "@canonicalize_args\n",
    "@lru_cache(maxsize=None)\n",
    "def APBBus(addr_width, data_width, num_slaves=1):\n",
    "    # TODO: Does this need to be a generator?\n",
    "    class APBBus:\n",
    "        \"\"\"\n",
    "        This defines a coroutine that impelements the behavior of an APBBus.  The interface\n",
    "        to the coroutine is via the `__call__` method which accepts an instance\n",
    "        of the `APBBusIO` type.\n",
    "        \"\"\"\n",
    "        def __init__(self):\n",
    "            # Store the type of the interface so users can easily fetch it\n",
    "            self.IO = APBBusIO(addr_width, data_width, num_slaves)\n",
    "\n",
    "            # The main functionality of the coroutine is defined the `_main`\n",
    "            # method.  Because of how Python generators work, to emulate the\n",
    "            # standard behavior of a coroutine, the main function should be\n",
    "            # invoked once to create the generator object, then `next` is\n",
    "            # called to initialize the coroutine\n",
    "            # See http://www.dabeaz.com/coroutines/ for more info on Python\n",
    "            # coroutines\n",
    "            self.main = self._main()\n",
    "            next(self.main)\n",
    "            # TODO: This logic should move to the infrastructure and be\n",
    "            # provided as a simple way to construct a coroutine\n",
    "\n",
    "        def __call__(self, io):\n",
    "            \"\"\"\n",
    "            Calling the object equates to advancing the coroutine once.\n",
    "            IO is performed through the `io` attribute.\n",
    "            \"\"\"\n",
    "            self.io = io\n",
    "            self.main.send(None)\n",
    "\n",
    "        def _main(self):\n",
    "            \"\"\"\n",
    "            This main coroutine implements a state machine with three top-level\n",
    "            states corresponding to: reading, writing, and idleing.\n",
    "            \"\"\"\n",
    "            yield  # Initial state\n",
    "            while True:\n",
    "                if self.io.request.command == APBCommand.READ:\n",
    "                    yield from self.read(self.io.request.address,\n",
    "                                         self.io.request.data)\n",
    "                elif self.io.request.command == APBCommand.WRITE:\n",
    "                    yield from self.write(self.io.request.address,\n",
    "                                          self.io.request.data)\n",
    "                else:\n",
    "                    yield\n",
    "\n",
    "        def set_psel(self, value):\n",
    "            \"\"\"\n",
    "            Helper function that sets the correct PSEL line based on the\n",
    "            `slave_id` of the current request\n",
    "            \"\"\"\n",
    "            setattr(self.io.apb, f\"PSEL{self.io.request.slave_id}\", value)\n",
    "\n",
    "        def write(self, address, data):\n",
    "            \"\"\"\n",
    "            Issue a write as a sequence of output values:\n",
    "                * Set the address and write data lines based on the input\n",
    "                * Set PSEL for the requested slave\n",
    "                * Set PWRITE\n",
    "                * Wait one clock cycle\n",
    "                * Set PENABLE\n",
    "                * Wait one clock cycle\n",
    "                * Wait for PREADY to be high (from the slave)\n",
    "                * Clear PENABLE and PSEL\n",
    "            \"\"\"\n",
    "            self.io.apb.PADDR = address\n",
    "            self.io.apb.PWDATA = data\n",
    "            self.set_psel(Bit(1))\n",
    "            self.io.apb.PWRITE = Bit(1)\n",
    "            yield\n",
    "            self.io.apb.PENABLE = Bit(1)\n",
    "            yield\n",
    "            while not self.io.apb.PREADY:\n",
    "                # TODO: Insert timeout logic\n",
    "                yield\n",
    "            self.io.apb.PENABLE = Bit(0)\n",
    "            self.set_psel(Bit(0))\n",
    "\n",
    "        def read(self, address, data):\n",
    "            \"\"\"\n",
    "            Issue a read as a sequence of output values:\n",
    "                * Set the address line based on the input\n",
    "                * Set PSEL for the requested slave\n",
    "                * Clear PWRITE\n",
    "                * Wait one clock cycle\n",
    "                * Set PENABLE\n",
    "                * Wait one clock cycle\n",
    "                * Wait for PREADY to be high (from the slave)\n",
    "                * Clear PENABLE and PSEL\n",
    "            \"\"\"\n",
    "            self.io.apb.PADDR = address\n",
    "            self.set_psel(Bit(1))\n",
    "            self.io.apb.PWRITE = Bit(0)\n",
    "            yield\n",
    "            self.io.apb.PENABLE = Bit(1)\n",
    "            yield\n",
    "            while not self.io.apb.PREADY:\n",
    "                # TODO: Insert timeout logic\n",
    "                yield\n",
    "            self.io.apb.PENABLE = Bit(0)\n",
    "            self.set_psel(Bit(0))\n",
    "\n",
    "            # TODO: Handle PSLVERR and checking the expected data\n",
    "    return APBBus()"
   ]
  },
  {
   "cell_type": "markdown",
   "metadata": {},
   "source": [
    "Now with our APBBus model defined, we should test it to verify that it\n",
    "generates the appropriate input stimuli for various commands.  To do this,\n",
    "we'll use the `waveform` package to generate a visual representation of the\n",
    "cycle level behavior of the model.  Here's an example of using the waveform\n",
    "module with the APB type."
   ]
  },
  {
   "cell_type": "code",
   "execution_count": 16,
   "metadata": {},
   "outputs": [
    {
     "data": {
      "image/png": "[encoded data removed]",
      "text/plain": [
       "<IPython.core.display.Image object>"
      ]
     },
     "execution_count": 16,
     "metadata": {},
     "output_type": "execute_result"
    }
   ],
   "source": [
    "from waveform import WaveForm\n",
    "\n",
    "\n",
    "_APB = APB(16, 32)\n",
    "apb_fields = (field for field in _APB.field_dict)\n",
    "\n",
    "waveform = WaveForm(apb_fields, clock_name=\"PCLK\")\n",
    "apb = default_APB_instance(_APB)\n",
    "\n",
    "# Record intial state\n",
    "waveform.step(apb)\n",
    "\n",
    "# Step the clock\n",
    "apb.PCLK = Bit(1)\n",
    "waveform.step(apb)\n",
    "\n",
    "# Set some other fields\n",
    "apb.PWDATA = BitVector[32](0xDEADBEEF)\n",
    "apb.PADDR = BitVector[16](0xFEED)\n",
    "apb.PENABLE = Bit(1)\n",
    "apb.PSEL0 = Bit(1)\n",
    "apb.PWRITE = Bit(1)\n",
    "apb.PCLK = Bit(0)\n",
    "waveform.step(apb)\n",
    "\n",
    "for i in range(2):\n",
    "# Step the clock\n",
    "    apb.PCLK ^= apb.PCLK\n",
    "    waveform.step(apb)\n",
    "\n",
    "apb.PREADY = Bit(1)\n",
    "apb.PENABLE = Bit(0)\n",
    "\n",
    "for i in range(2):\n",
    "    apb.PCLK ^= apb.PCLK\n",
    "    waveform.step(apb)\n",
    "\n",
    "waveform.render_ipynb(\"waveform_example\")"
   ]
  },
  {
   "cell_type": "markdown",
   "metadata": {},
   "source": [
    "Now we will write a test sequence of inputs to the model and record the outputs\n",
    "to verify the behavior for a write with no wait states.  Our expected output\n",
    "waveform should look similar to Figure 2-1 (page 2-2) of the [APB\n",
    "Specification](https://static.docs.arm.com/ihi0024/b/AMBA3apb.pdf)"
   ]
  },
  {
   "cell_type": "code",
   "execution_count": 17,
   "metadata": {},
   "outputs": [
    {
     "data": {
      "image/png": "[encoded data removed]",
      "text/plain": [
       "<IPython.core.display.Image object>"
      ]
     },
     "execution_count": 17,
     "metadata": {},
     "output_type": "execute_result"
    }
   ],
   "source": [
    "addr_width = 16\n",
    "data_width = 32\n",
    "bus = APBBus(addr_width, data_width)\n",
    "addr = 13\n",
    "data = 45\n",
    "request = Request(addr_width, data_width, 1)(\n",
    "    APBCommand.IDLE, BitVector[addr_width](addr),\n",
    "    BitVector[data_width](data), BitVector[1](0))\n",
    "\n",
    "# Specialized instance of APB for addr/data width\n",
    "_APB = APB(addr_width, data_width)\n",
    "\n",
    "io = APBBusIO(addr_width, data_width)(default_APB_instance(_APB), request)\n",
    "\n",
    "apb_fields = (field for field in _APB.field_dict)\n",
    "waveform = WaveForm(apb_fields, clock_name=\"PCLK\")\n",
    "\n",
    "# check idle stae\n",
    "for i in range(1):\n",
    "    bus(io)\n",
    "    waveform.step(bus.io.apb)\n",
    "\n",
    "# Send request\n",
    "request.command = APBCommand.WRITE\n",
    "bus(io)\n",
    "assert io.apb.PSEL0 == 1\n",
    "\n",
    "waveform.step(bus.io.apb)\n",
    "\n",
    "request.command = APBCommand.IDLE\n",
    "\n",
    "# No wait state\n",
    "io.apb.PREADY = Bit(1)\n",
    "bus(io)\n",
    "waveform.step(bus.io.apb)\n",
    "\n",
    "assert io.apb.PENABLE == 1\n",
    "assert io.apb.PSEL0 == 1\n",
    "\n",
    "bus(io)\n",
    "# Slave pulls PREADY down at the same time\n",
    "io.apb.PREADY = Bit(0)\n",
    "waveform.step(bus.io.apb)\n",
    "\n",
    "assert io.apb.PENABLE == 0\n",
    "assert io.apb.PSEL0 == 0\n",
    "\n",
    "io.apb.PWDATA = BitVector[data_width](0)\n",
    "\n",
    "bus(io)\n",
    "waveform.step(bus.io.apb)\n",
    "waveform.render_ipynb(\"write_no_wait\")"
   ]
  },
  {
   "cell_type": "markdown",
   "metadata": {},
   "source": [
    "Next is a test for a write with a wait state which should look like Figure 2-2\n",
    "(pg 2-3) of the [APB\n",
    "Specification](https://static.docs.arm.com/ihi0024/b/AMBA3apb.pdf)\n"
   ]
  },
  {
   "cell_type": "code",
   "execution_count": 18,
   "metadata": {},
   "outputs": [
    {
     "data": {
      "image/png": "[encoded data removed]",
      "text/plain": [
       "<IPython.core.display.Image object>"
      ]
     },
     "execution_count": 18,
     "metadata": {},
     "output_type": "execute_result"
    }
   ],
   "source": [
    "addr_width = 16\n",
    "data_width = 32\n",
    "bus = APBBus(addr_width, data_width)\n",
    "addr = 13\n",
    "data = 45\n",
    "request = Request(addr_width, data_width, 1)(\n",
    "    APBCommand.IDLE, BitVector[addr_width](addr), BitVector[data_width](data), BitVector[1](0))\n",
    "\n",
    "# Specialized instance of APB for addr/data width\n",
    "_APB = APB(addr_width, data_width)\n",
    "\n",
    "io = APBBusIO(addr_width, data_width)(\n",
    "    default_APB_instance(_APB), request)\n",
    "\n",
    "apb_fields = (field for field in _APB.field_dict)\n",
    "waveform = WaveForm(apb_fields, clock_name=\"PCLK\")\n",
    "\n",
    "# check idle stae\n",
    "for i in range(1):\n",
    "    bus(io)\n",
    "    waveform.step(bus.io.apb)\n",
    "\n",
    "# Send request\n",
    "request.command = APBCommand.WRITE\n",
    "bus(io)\n",
    "waveform.step(bus.io.apb)\n",
    "assert io.apb.PSEL0 == 1\n",
    "assert io.apb.PWRITE == 1\n",
    "\n",
    "request.command = APBCommand.IDLE\n",
    "\n",
    "# Wait by holding PREADY down\n",
    "io.apb.PREADY = Bit(0)\n",
    "bus(io)\n",
    "waveform.step(bus.io.apb)\n",
    "assert io.apb.PENABLE == 1\n",
    "assert io.apb.PSEL0 == 1\n",
    "assert io.apb.PWRITE == 1\n",
    "\n",
    "for i in range(2):\n",
    "    bus(io)\n",
    "    waveform.step(bus.io.apb)\n",
    "    assert io.apb.PENABLE == 1\n",
    "    assert io.apb.PSEL0 == 1\n",
    "    assert io.apb.PWRITE == 1\n",
    "\n",
    "bus(io)\n",
    "# PREADY high when done\n",
    "io.apb.PREADY = Bit(1)\n",
    "waveform.step(bus.io.apb)\n",
    "bus(io)\n",
    "io.apb.PREADY = Bit(0)\n",
    "io.apb.PWDATA = BitVector[data_width](0)\n",
    "waveform.step(bus.io.apb)\n",
    "assert io.apb.PENABLE == 0\n",
    "assert io.apb.PSEL0 == 0\n",
    "waveform.render_ipynb(\"write_with_wait\")"
   ]
  },
  {
   "cell_type": "markdown",
   "metadata": {},
   "source": [
    "Similarly we can test a read with no wait which should look like\n",
    "Figure 2-3 (pg 2-4) of the [APB\n",
    "Specification](https://static.docs.arm.com/ihi0024/b/AMBA3apb.pdf)\n"
   ]
  },
  {
   "cell_type": "code",
   "execution_count": 19,
   "metadata": {},
   "outputs": [
    {
     "data": {
      "image/png": "[encoded data removed]",
      "text/plain": [
       "<IPython.core.display.Image object>"
      ]
     },
     "execution_count": 19,
     "metadata": {},
     "output_type": "execute_result"
    }
   ],
   "source": [
    "addr_width = 16\n",
    "data_width = 32\n",
    "bus = APBBus(addr_width, data_width)\n",
    "addr = 13\n",
    "data = 0\n",
    "request = Request(addr_width, data_width, 1)(\n",
    "    APBCommand.IDLE, BitVector[addr_width](addr), BitVector[data_width](data), BitVector[1](0))\n",
    "\n",
    "# Specialized instance of APB for addr/data width\n",
    "_APB = APB(addr_width, data_width)\n",
    "\n",
    "io = APBBusIO(addr_width, data_width)(default_APB_instance(_APB), request)\n",
    "\n",
    "apb_fields = (field for field in _APB.field_dict)\n",
    "waveform = WaveForm(apb_fields, clock_name=\"PCLK\")\n",
    "\n",
    "# check idle stae\n",
    "for i in range(1):\n",
    "    bus(io)\n",
    "    waveform.step(bus.io.apb)\n",
    "\n",
    "# Send request\n",
    "request.command = APBCommand.READ\n",
    "bus(io)\n",
    "waveform.step(bus.io.apb)\n",
    "\n",
    "request.command = APBCommand.IDLE\n",
    "\n",
    "bus(io)\n",
    "waveform.step(bus.io.apb)\n",
    "assert io.apb.PENABLE == 1\n",
    "\n",
    "# No wait state\n",
    "bus(io)\n",
    "io.apb.PREADY = Bit(1)\n",
    "io.apb.PRDATA = BitVector[data_width](13)\n",
    "waveform.step(bus.io.apb)\n",
    "\n",
    "bus(io)\n",
    "io.apb.PREADY = Bit(0)\n",
    "io.apb.PRDATA = BitVector[data_width](0)\n",
    "waveform.step(bus.io.apb)\n",
    "\n",
    "assert io.apb.PENABLE == 0\n",
    "assert io.apb.PSEL0 == 0\n",
    "waveform.render_ipynb(\"read_no_wait\")"
   ]
  },
  {
   "cell_type": "markdown",
   "metadata": {},
   "source": [
    "And test a read with a wait state which should look like Figure 2-4 (pg 2-5) of\n",
    "the [APB Specification](https://static.docs.arm.com/ihi0024/b/AMBA3apb.pdf).\n"
   ]
  },
  {
   "cell_type": "code",
   "execution_count": 20,
   "metadata": {},
   "outputs": [
    {
     "data": {
      "image/png": "[encoded data removed]",
      "text/plain": [
       "<IPython.core.display.Image object>"
      ]
     },
     "execution_count": 20,
     "metadata": {},
     "output_type": "execute_result"
    }
   ],
   "source": [
    "addr_width = 16\n",
    "data_width = 32\n",
    "bus = APBBus(addr_width, data_width)\n",
    "addr = 13\n",
    "data = 0\n",
    "request = Request(addr_width, data_width, 1)(\n",
    "    APBCommand.IDLE, BitVector[addr_width](addr), BitVector[data_width](data), BitVector[1](0))\n",
    "\n",
    "# Specialized instance of APB for addr/data width\n",
    "_APB = APB(addr_width, data_width)\n",
    "\n",
    "io = APBBusIO(addr_width, data_width)(default_APB_instance(_APB), request)\n",
    "\n",
    "apb_fields = (field for field in _APB.field_dict)\n",
    "waveform = WaveForm(apb_fields, clock_name=\"PCLK\")\n",
    "\n",
    "# check idle stae\n",
    "for i in range(1):\n",
    "    bus(io)\n",
    "    waveform.step(bus.io.apb)\n",
    "\n",
    "# Send request\n",
    "request.command = APBCommand.READ\n",
    "bus(io)\n",
    "waveform.step(bus.io.apb)\n",
    "\n",
    "request.command = APBCommand.IDLE\n",
    "\n",
    "bus(io)\n",
    "waveform.step(bus.io.apb)\n",
    "assert io.apb.PENABLE == 1\n",
    "\n",
    "for i in range(2):\n",
    "    bus(io)\n",
    "    waveform.step(bus.io.apb)\n",
    "\n",
    "bus(io)\n",
    "io.apb.PREADY = Bit(1)\n",
    "io.apb.PRDATA = BitVector[data_width](13)\n",
    "waveform.step(bus.io.apb)\n",
    "\n",
    "bus(io)\n",
    "io.apb.PREADY = Bit(0)\n",
    "io.apb.PRDATA = BitVector[data_width](0)\n",
    "waveform.step(bus.io.apb)\n",
    "\n",
    "assert io.apb.PENABLE == 0\n",
    "assert io.apb.PSEL0 == 0\n",
    "waveform.render_ipynb(\"write_no_wait\")"
   ]
  },
  {
   "cell_type": "markdown",
   "metadata": {},
   "source": [
    "In the next notebook, we'll demonstrate how to use this APBModel to verify the\n",
    "register file."
   ]
  }
 ],
 "metadata": {
  "jupytext": {
   "cell_metadata_filter": "-all",
   "main_language": "python",
   "notebook_metadata_filter": "-all"
  },
  "kernelspec": {
   "display_name": "Python 3",
   "language": "python",
   "name": "python3"
  },
  "language_info": {
   "codemirror_mode": {
    "name": "ipython",
    "version": 3
   },
   "file_extension": ".py",
   "mimetype": "text/x-python",
   "name": "python",
   "nbconvert_exporter": "python",
   "pygments_lexer": "ipython3",
   "version": "3.7.1"
  }
 },
 "nbformat": 4,
 "nbformat_minor": 2
}
